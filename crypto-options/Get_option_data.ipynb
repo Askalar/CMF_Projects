{
 "cells": [
  {
   "cell_type": "code",
   "execution_count": 16,
   "metadata": {},
   "outputs": [],
   "source": [
    "import json\n",
    "import requests\n",
    "import pandas as pd\n",
    "from tqdm import tqdm\n",
    "from typing import NamedTuple\n",
    "from datetime import datetime"
   ]
  },
  {
   "cell_type": "code",
   "execution_count": 17,
   "metadata": {},
   "outputs": [],
   "source": [
    "class Currency_info(NamedTuple):\n",
    "    names: tuple\n",
    "    periods: tuple"
   ]
  },
  {
   "cell_type": "code",
   "execution_count": 18,
   "metadata": {},
   "outputs": [],
   "source": [
    "def Get_maturity_date_from_option_name(option_name: str):\n",
    "    date_str = option_name.split(\"-\")[1]\n",
    "    maturity_date = datetime.strptime(date_str, '%d%b%y')\n",
    "    return maturity_date "
   ]
  },
  {
   "cell_type": "code",
   "execution_count": 19,
   "metadata": {},
   "outputs": [],
   "source": [
    "def Get_days_till_maturity(option_name: str):\n",
    "    date_str = option_name.split(\"-\")[1]\n",
    "    maturity_date = datetime.strptime(date_str, '%d%b%y')    \n",
    "    return ((maturity_date - datetime.today()).days)"
   ]
  },
  {
   "cell_type": "code",
   "execution_count": 20,
   "metadata": {},
   "outputs": [],
   "source": [
    "def Get_options_information(currency_name: str) -> Currency_info:\n",
    "    \"\"\"\n",
    "    Get instrument_name and settlement_period for all options of selected currency from deribit (public)\n",
    "    \"\"\"\n",
    "    request = requests.get(\"https://test.deribit.com/api/v2/public/get_instruments?currency=\" + currency_name + \"&kind=option\")\n",
    "    request_text = json.loads(request.text)\n",
    "    currency_info = Currency_info(tuple(pd.json_normalize(request_text['result'])['instrument_name']),\n",
    "                                  tuple(pd.json_normalize(request_text['result'])['settlement_period']))\n",
    "\n",
    "    return currency_info\n",
    "\n",
    "\n",
    "def Get_options_data(currency_name: str) -> pd.DataFrame:\n",
    "    \"\"\"\n",
    "    Get currency data for instrument names\n",
    "    \"\"\"\n",
    "    currency_info = Get_options_information(currency_name)\n",
    "    progress_bar = tqdm(total = len(currency_info.names))\n",
    "    currency_data = []\n",
    "    for i in range(len(currency_info.names)):\n",
    "        request = requests.get('https://test.deribit.com/api/v2/public/get_order_book?instrument_name=' + currency_info.names[i])\n",
    "        request_text = json.loads(request.text)\n",
    "        add_data = pd.json_normalize(request_text['result'])\n",
    "        add_data['settlement_period'] = currency_info.periods[i]\n",
    "        add_data['option_name'] = currency_info.names[i]\n",
    "        add_data['strike'] = int(currency_info.names[i].split(\"-\")[2])\n",
    "        add_data['maturity_date'] = Get_maturity_date_from_option_name(currency_info.names[i])\n",
    "        add_data['days_till_maturity'] = Get_days_till_maturity(currency_info.names[i])        \n",
    "        currency_data.append(add_data)\n",
    "        progress_bar.update(1)\n",
    "    currency_dataframe = pd.concat(currency_data)\n",
    "    \"\"\"currency_dataframe = currency_dataframe[['underlying_price', 'timestamp', 'settlement_price',\n",
    "                        'open_interest', 'min_price', 'max_price', 'mark_price', 'mark_iv',\n",
    "                        'last_price', 'interest_rate', 'instrument_name', 'index_price', 'bids',\n",
    "                        'bid_iv', 'best_bid_price', 'best_bid_amount','best_ask_price', \n",
    "                        'best_ask_amount', 'asks', 'ask_iv', 'stats.volume','stats.price_change',\n",
    "                        'stats.low', 'stats.high','settlement_period','strike', 'option_name']].copy\"\"\"\n",
    "    currency_dataframe = currency_dataframe[['instrument_name', 'underlying_price', 'timestamp', 'mark_price', 'mark_iv',\n",
    "                         'best_bid_price', 'best_ask_price', 'strike', 'option_name', 'maturity_date', 'days_till_maturity']].copy()                    \n",
    "    progress_bar.close()\n",
    "    return currency_dataframe"
   ]
  },
  {
   "cell_type": "code",
   "execution_count": 21,
   "metadata": {},
   "outputs": [
    {
     "name": "stderr",
     "output_type": "stream",
     "text": [
      "100%|██████████| 314/314 [01:04<00:00,  4.89it/s]"
     ]
    },
    {
     "name": "stdout",
     "output_type": "stream",
     "text": [
      "        instrument_name  underlying_price      timestamp  mark_price  mark_iv  \\\n",
      "0   BTC-11NOV22-15000-C          17846.54  1668116894631      0.1597   210.00   \n",
      "0   BTC-11NOV22-15000-P          17845.94  1668116895638      0.0002   210.00   \n",
      "0   BTC-11NOV22-16000-C          17845.96  1668116895642      0.1053   210.00   \n",
      "0   BTC-11NOV22-16000-P          17845.96  1668116895643      0.0019   210.00   \n",
      "0   BTC-11NOV22-17000-C          17845.94  1668116895641      0.0563   195.09   \n",
      "..                  ...               ...            ...         ...      ...   \n",
      "0   BTC-29SEP23-30000-P          17731.54  1668116958074      0.7415    53.74   \n",
      "0   BTC-29SEP23-40000-C          17731.54  1668116958074      0.0168    53.74   \n",
      "0   BTC-29SEP23-40000-P          17731.54  1668116958075      1.2727    53.74   \n",
      "0   BTC-29SEP23-50000-C          17731.54  1668116958074      0.0061    53.74   \n",
      "0   BTC-29SEP23-50000-P          17731.64  1668116959080      1.8259    53.74   \n",
      "\n",
      "    best_bid_price  best_ask_price  strike          option_name maturity_date  \\\n",
      "0           0.1290          0.0000   15000  BTC-11NOV22-15000-C    2022-11-11   \n",
      "0           0.0005          0.0000   15000  BTC-11NOV22-15000-P    2022-11-11   \n",
      "0           0.0390          0.1175   16000  BTC-11NOV22-16000-C    2022-11-11   \n",
      "0           0.0000          0.0000   16000  BTC-11NOV22-16000-P    2022-11-11   \n",
      "0           0.0480          0.0695   17000  BTC-11NOV22-17000-C    2022-11-11   \n",
      "..             ...             ...     ...                  ...           ...   \n",
      "0           0.0000          0.0000   30000  BTC-29SEP23-30000-P    2023-09-29   \n",
      "0           0.0000          0.0000   40000  BTC-29SEP23-40000-C    2023-09-29   \n",
      "0           0.0000          0.0000   40000  BTC-29SEP23-40000-P    2023-09-29   \n",
      "0           0.0000          0.0000   50000  BTC-29SEP23-50000-C    2023-09-29   \n",
      "0           0.0000          0.0000   50000  BTC-29SEP23-50000-P    2023-09-29   \n",
      "\n",
      "    days_till_maturity  \n",
      "0                   -1  \n",
      "0                   -1  \n",
      "0                   -1  \n",
      "0                   -1  \n",
      "0                   -1  \n",
      "..                 ...  \n",
      "0                  321  \n",
      "0                  321  \n",
      "0                  321  \n",
      "0                  321  \n",
      "0                  321  \n",
      "\n",
      "[314 rows x 11 columns]\n"
     ]
    },
    {
     "name": "stderr",
     "output_type": "stream",
     "text": [
      "\n"
     ]
    }
   ],
   "source": [
    "\n",
    "BTC_options_data = Get_options_data('BTC')\n",
    "print(BTC_options_data)"
   ]
  },
  {
   "cell_type": "code",
   "execution_count": 22,
   "metadata": {},
   "outputs": [
    {
     "name": "stdout",
     "output_type": "stream",
     "text": [
      "        instrument_name  underlying_price      timestamp  mark_price  mark_iv  \\\n",
      "0   BTC-11NOV22-15000-C          17846.54  1668116894631      0.1597   210.00   \n",
      "0   BTC-11NOV22-15000-P          17845.94  1668116895638      0.0002   210.00   \n",
      "0   BTC-11NOV22-16000-C          17845.96  1668116895642      0.1053   210.00   \n",
      "0   BTC-11NOV22-16000-P          17845.96  1668116895643      0.0019   210.00   \n",
      "0   BTC-11NOV22-17000-C          17845.94  1668116895641      0.0563   195.09   \n",
      "..                  ...               ...            ...         ...      ...   \n",
      "0   BTC-29SEP23-30000-P          17731.54  1668116958074      0.7415    53.74   \n",
      "0   BTC-29SEP23-40000-C          17731.54  1668116958074      0.0168    53.74   \n",
      "0   BTC-29SEP23-40000-P          17731.54  1668116958075      1.2727    53.74   \n",
      "0   BTC-29SEP23-50000-C          17731.54  1668116958074      0.0061    53.74   \n",
      "0   BTC-29SEP23-50000-P          17731.64  1668116959080      1.8259    53.74   \n",
      "\n",
      "    best_bid_price  best_ask_price  strike          option_name maturity_date  \\\n",
      "0           0.1290          0.0000   15000  BTC-11NOV22-15000-C    2022-11-11   \n",
      "0           0.0005          0.0000   15000  BTC-11NOV22-15000-P    2022-11-11   \n",
      "0           0.0390          0.1175   16000  BTC-11NOV22-16000-C    2022-11-11   \n",
      "0           0.0000          0.0000   16000  BTC-11NOV22-16000-P    2022-11-11   \n",
      "0           0.0480          0.0695   17000  BTC-11NOV22-17000-C    2022-11-11   \n",
      "..             ...             ...     ...                  ...           ...   \n",
      "0           0.0000          0.0000   30000  BTC-29SEP23-30000-P    2023-09-29   \n",
      "0           0.0000          0.0000   40000  BTC-29SEP23-40000-C    2023-09-29   \n",
      "0           0.0000          0.0000   40000  BTC-29SEP23-40000-P    2023-09-29   \n",
      "0           0.0000          0.0000   50000  BTC-29SEP23-50000-C    2023-09-29   \n",
      "0           0.0000          0.0000   50000  BTC-29SEP23-50000-P    2023-09-29   \n",
      "\n",
      "    days_till_maturity  \n",
      "0                   -1  \n",
      "0                   -1  \n",
      "0                   -1  \n",
      "0                   -1  \n",
      "0                   -1  \n",
      "..                 ...  \n",
      "0                  321  \n",
      "0                  321  \n",
      "0                  321  \n",
      "0                  321  \n",
      "0                  321  \n",
      "\n",
      "[314 rows x 11 columns]\n"
     ]
    }
   ],
   "source": [
    "print(BTC_options_data)"
   ]
  },
  {
   "cell_type": "code",
   "execution_count": 23,
   "metadata": {},
   "outputs": [
    {
     "name": "stdout",
     "output_type": "stream",
     "text": [
      "Currency_info(names=('BTC-11NOV22-15000-C', 'BTC-11NOV22-15000-P', 'BTC-11NOV22-16000-C', 'BTC-11NOV22-16000-P', 'BTC-11NOV22-17000-C', 'BTC-11NOV22-17000-P', 'BTC-11NOV22-18000-C', 'BTC-11NOV22-18000-P', 'BTC-11NOV22-19000-C', 'BTC-11NOV22-19000-P', 'BTC-11NOV22-20000-C', 'BTC-11NOV22-20000-P', 'BTC-11NOV22-21000-C', 'BTC-11NOV22-21000-P', 'BTC-11NOV22-22000-C', 'BTC-11NOV22-22000-P', 'BTC-11NOV22-25000-C', 'BTC-11NOV22-25000-P', 'BTC-12NOV22-13000-C', 'BTC-12NOV22-13000-P', 'BTC-12NOV22-14000-C', 'BTC-12NOV22-14000-P', 'BTC-12NOV22-14500-C', 'BTC-12NOV22-14500-P', 'BTC-12NOV22-15000-C', 'BTC-12NOV22-15000-P', 'BTC-12NOV22-15500-C', 'BTC-12NOV22-15500-P', 'BTC-12NOV22-16000-C', 'BTC-12NOV22-16000-P', 'BTC-12NOV22-16250-C', 'BTC-12NOV22-16250-P', 'BTC-12NOV22-16500-C', 'BTC-12NOV22-16500-P', 'BTC-12NOV22-16750-C', 'BTC-12NOV22-16750-P', 'BTC-12NOV22-17000-C', 'BTC-12NOV22-17000-P', 'BTC-12NOV22-17250-C', 'BTC-12NOV22-17250-P', 'BTC-12NOV22-17500-C', 'BTC-12NOV22-17500-P', 'BTC-12NOV22-17750-C', 'BTC-12NOV22-17750-P', 'BTC-12NOV22-18000-C', 'BTC-12NOV22-18000-P', 'BTC-12NOV22-18500-C', 'BTC-12NOV22-18500-P', 'BTC-12NOV22-19000-C', 'BTC-12NOV22-19000-P', 'BTC-12NOV22-19500-C', 'BTC-12NOV22-19500-P', 'BTC-12NOV22-20000-C', 'BTC-12NOV22-20000-P', 'BTC-18NOV22-15000-C', 'BTC-18NOV22-15000-P', 'BTC-18NOV22-16000-C', 'BTC-18NOV22-16000-P', 'BTC-18NOV22-17000-C', 'BTC-18NOV22-17000-P', 'BTC-18NOV22-18000-C', 'BTC-18NOV22-18000-P', 'BTC-18NOV22-19000-C', 'BTC-18NOV22-19000-P', 'BTC-18NOV22-20000-C', 'BTC-18NOV22-20000-P', 'BTC-18NOV22-21000-C', 'BTC-18NOV22-21000-P', 'BTC-18NOV22-22000-C', 'BTC-18NOV22-22000-P', 'BTC-18NOV22-23000-C', 'BTC-18NOV22-23000-P', 'BTC-18NOV22-25000-C', 'BTC-18NOV22-25000-P', 'BTC-25NOV22-12000-C', 'BTC-25NOV22-12000-P', 'BTC-25NOV22-14000-C', 'BTC-25NOV22-14000-P', 'BTC-25NOV22-15000-C', 'BTC-25NOV22-15000-P', 'BTC-25NOV22-16000-C', 'BTC-25NOV22-16000-P', 'BTC-25NOV22-17000-C', 'BTC-25NOV22-17000-P', 'BTC-25NOV22-18000-C', 'BTC-25NOV22-18000-P', 'BTC-25NOV22-19000-C', 'BTC-25NOV22-19000-P', 'BTC-25NOV22-20000-C', 'BTC-25NOV22-20000-P', 'BTC-25NOV22-21000-C', 'BTC-25NOV22-21000-P', 'BTC-25NOV22-22000-C', 'BTC-25NOV22-22000-P', 'BTC-25NOV22-23000-C', 'BTC-25NOV22-23000-P', 'BTC-25NOV22-24000-C', 'BTC-25NOV22-24000-P', 'BTC-25NOV22-25000-C', 'BTC-25NOV22-25000-P', 'BTC-25NOV22-26000-C', 'BTC-25NOV22-26000-P', 'BTC-25NOV22-28000-C', 'BTC-25NOV22-28000-P', 'BTC-25NOV22-30000-C', 'BTC-25NOV22-30000-P', 'BTC-25NOV22-35000-C', 'BTC-25NOV22-35000-P', 'BTC-25NOV22-40000-C', 'BTC-25NOV22-40000-P', 'BTC-2DEC22-14000-C', 'BTC-2DEC22-14000-P', 'BTC-2DEC22-15000-C', 'BTC-2DEC22-15000-P', 'BTC-2DEC22-16000-C', 'BTC-2DEC22-16000-P', 'BTC-2DEC22-17000-C', 'BTC-2DEC22-17000-P', 'BTC-2DEC22-18000-C', 'BTC-2DEC22-18000-P', 'BTC-2DEC22-19000-C', 'BTC-2DEC22-19000-P', 'BTC-2DEC22-20000-C', 'BTC-2DEC22-20000-P', 'BTC-30DEC22-10000-C', 'BTC-30DEC22-10000-P', 'BTC-30DEC22-14000-C', 'BTC-30DEC22-14000-P', 'BTC-30DEC22-15000-C', 'BTC-30DEC22-15000-P', 'BTC-30DEC22-16000-C', 'BTC-30DEC22-16000-P', 'BTC-30DEC22-18000-C', 'BTC-30DEC22-18000-P', 'BTC-30DEC22-20000-C', 'BTC-30DEC22-20000-P', 'BTC-30DEC22-22000-C', 'BTC-30DEC22-22000-P', 'BTC-30DEC22-24000-C', 'BTC-30DEC22-24000-P', 'BTC-30DEC22-25000-C', 'BTC-30DEC22-25000-P', 'BTC-30DEC22-26000-C', 'BTC-30DEC22-26000-P', 'BTC-30DEC22-28000-C', 'BTC-30DEC22-28000-P', 'BTC-30DEC22-30000-C', 'BTC-30DEC22-30000-P', 'BTC-30DEC22-35000-C', 'BTC-30DEC22-35000-P', 'BTC-30DEC22-40000-C', 'BTC-30DEC22-40000-P', 'BTC-30DEC22-45000-C', 'BTC-30DEC22-45000-P', 'BTC-30DEC22-50000-C', 'BTC-30DEC22-50000-P', 'BTC-30DEC22-55000-C', 'BTC-30DEC22-55000-P', 'BTC-30DEC22-60000-C', 'BTC-30DEC22-60000-P', 'BTC-30DEC22-70000-C', 'BTC-30DEC22-70000-P', 'BTC-30DEC22-80000-C', 'BTC-30DEC22-80000-P', 'BTC-30DEC22-100000-C', 'BTC-30DEC22-100000-P', 'BTC-30DEC22-150000-C', 'BTC-30DEC22-150000-P', 'BTC-30DEC22-200000-C', 'BTC-30DEC22-200000-P', 'BTC-27JAN23-10000-C', 'BTC-27JAN23-10000-P', 'BTC-27JAN23-12000-C', 'BTC-27JAN23-12000-P', 'BTC-27JAN23-13000-C', 'BTC-27JAN23-13000-P', 'BTC-27JAN23-14000-C', 'BTC-27JAN23-14000-P', 'BTC-27JAN23-15000-C', 'BTC-27JAN23-15000-P', 'BTC-27JAN23-16000-C', 'BTC-27JAN23-16000-P', 'BTC-27JAN23-17000-C', 'BTC-27JAN23-17000-P', 'BTC-27JAN23-18000-C', 'BTC-27JAN23-18000-P', 'BTC-27JAN23-19000-C', 'BTC-27JAN23-19000-P', 'BTC-27JAN23-20000-C', 'BTC-27JAN23-20000-P', 'BTC-27JAN23-21000-C', 'BTC-27JAN23-21000-P', 'BTC-27JAN23-22000-C', 'BTC-27JAN23-22000-P', 'BTC-27JAN23-23000-C', 'BTC-27JAN23-23000-P', 'BTC-27JAN23-24000-C', 'BTC-27JAN23-24000-P', 'BTC-27JAN23-25000-C', 'BTC-27JAN23-25000-P', 'BTC-27JAN23-26000-C', 'BTC-27JAN23-26000-P', 'BTC-27JAN23-28000-C', 'BTC-27JAN23-28000-P', 'BTC-27JAN23-30000-C', 'BTC-27JAN23-30000-P', 'BTC-27JAN23-35000-C', 'BTC-27JAN23-35000-P', 'BTC-27JAN23-40000-C', 'BTC-27JAN23-40000-P', 'BTC-31MAR23-10000-C', 'BTC-31MAR23-10000-P', 'BTC-31MAR23-14000-C', 'BTC-31MAR23-14000-P', 'BTC-31MAR23-15000-C', 'BTC-31MAR23-15000-P', 'BTC-31MAR23-16000-C', 'BTC-31MAR23-16000-P', 'BTC-31MAR23-18000-C', 'BTC-31MAR23-18000-P', 'BTC-31MAR23-20000-C', 'BTC-31MAR23-20000-P', 'BTC-31MAR23-22000-C', 'BTC-31MAR23-22000-P', 'BTC-31MAR23-24000-C', 'BTC-31MAR23-24000-P', 'BTC-31MAR23-25000-C', 'BTC-31MAR23-25000-P', 'BTC-31MAR23-26000-C', 'BTC-31MAR23-26000-P', 'BTC-31MAR23-28000-C', 'BTC-31MAR23-28000-P', 'BTC-31MAR23-30000-C', 'BTC-31MAR23-30000-P', 'BTC-31MAR23-35000-C', 'BTC-31MAR23-35000-P', 'BTC-31MAR23-40000-C', 'BTC-31MAR23-40000-P', 'BTC-31MAR23-45000-C', 'BTC-31MAR23-45000-P', 'BTC-31MAR23-50000-C', 'BTC-31MAR23-50000-P', 'BTC-31MAR23-55000-C', 'BTC-31MAR23-55000-P', 'BTC-31MAR23-60000-C', 'BTC-31MAR23-60000-P', 'BTC-31MAR23-100000-C', 'BTC-31MAR23-100000-P', 'BTC-31MAR23-150000-C', 'BTC-31MAR23-150000-P', 'BTC-31MAR23-200000-C', 'BTC-31MAR23-200000-P', 'BTC-30JUN23-10000-C', 'BTC-30JUN23-10000-P', 'BTC-30JUN23-14000-C', 'BTC-30JUN23-14000-P', 'BTC-30JUN23-15000-C', 'BTC-30JUN23-15000-P', 'BTC-30JUN23-16000-C', 'BTC-30JUN23-16000-P', 'BTC-30JUN23-18000-C', 'BTC-30JUN23-18000-P', 'BTC-30JUN23-20000-C', 'BTC-30JUN23-20000-P', 'BTC-30JUN23-22000-C', 'BTC-30JUN23-22000-P', 'BTC-30JUN23-24000-C', 'BTC-30JUN23-24000-P', 'BTC-30JUN23-25000-C', 'BTC-30JUN23-25000-P', 'BTC-30JUN23-26000-C', 'BTC-30JUN23-26000-P', 'BTC-30JUN23-28000-C', 'BTC-30JUN23-28000-P', 'BTC-30JUN23-30000-C', 'BTC-30JUN23-30000-P', 'BTC-30JUN23-35000-C', 'BTC-30JUN23-35000-P', 'BTC-30JUN23-40000-C', 'BTC-30JUN23-40000-P', 'BTC-30JUN23-50000-C', 'BTC-30JUN23-50000-P', 'BTC-30JUN23-60000-C', 'BTC-30JUN23-60000-P', 'BTC-30JUN23-100000-C', 'BTC-30JUN23-100000-P', 'BTC-29SEP23-10000-C', 'BTC-29SEP23-10000-P', 'BTC-29SEP23-12000-C', 'BTC-29SEP23-12000-P', 'BTC-29SEP23-14000-C', 'BTC-29SEP23-14000-P', 'BTC-29SEP23-15000-C', 'BTC-29SEP23-15000-P', 'BTC-29SEP23-16000-C', 'BTC-29SEP23-16000-P', 'BTC-29SEP23-18000-C', 'BTC-29SEP23-18000-P', 'BTC-29SEP23-20000-C', 'BTC-29SEP23-20000-P', 'BTC-29SEP23-22000-C', 'BTC-29SEP23-22000-P', 'BTC-29SEP23-24000-C', 'BTC-29SEP23-24000-P', 'BTC-29SEP23-25000-C', 'BTC-29SEP23-25000-P', 'BTC-29SEP23-26000-C', 'BTC-29SEP23-26000-P', 'BTC-29SEP23-30000-C', 'BTC-29SEP23-30000-P', 'BTC-29SEP23-40000-C', 'BTC-29SEP23-40000-P', 'BTC-29SEP23-50000-C', 'BTC-29SEP23-50000-P'), periods=('week', 'week', 'week', 'week', 'week', 'week', 'week', 'week', 'week', 'week', 'week', 'week', 'week', 'week', 'week', 'week', 'week', 'week', 'day', 'day', 'day', 'day', 'day', 'day', 'day', 'day', 'day', 'day', 'day', 'day', 'day', 'day', 'day', 'day', 'day', 'day', 'day', 'day', 'day', 'day', 'day', 'day', 'day', 'day', 'day', 'day', 'day', 'day', 'day', 'day', 'day', 'day', 'day', 'day', 'week', 'week', 'week', 'week', 'week', 'week', 'week', 'week', 'week', 'week', 'week', 'week', 'week', 'week', 'week', 'week', 'week', 'week', 'week', 'week', 'month', 'month', 'month', 'month', 'month', 'month', 'month', 'month', 'month', 'month', 'month', 'month', 'month', 'month', 'month', 'month', 'month', 'month', 'month', 'month', 'month', 'month', 'month', 'month', 'month', 'month', 'month', 'month', 'month', 'month', 'month', 'month', 'month', 'month', 'month', 'month', 'week', 'week', 'week', 'week', 'week', 'week', 'week', 'week', 'week', 'week', 'week', 'week', 'week', 'week', 'month', 'month', 'month', 'month', 'month', 'month', 'month', 'month', 'month', 'month', 'month', 'month', 'month', 'month', 'month', 'month', 'month', 'month', 'month', 'month', 'month', 'month', 'month', 'month', 'month', 'month', 'month', 'month', 'month', 'month', 'month', 'month', 'month', 'month', 'month', 'month', 'month', 'month', 'month', 'month', 'month', 'month', 'month', 'month', 'month', 'month', 'month', 'month', 'month', 'month', 'month', 'month', 'month', 'month', 'month', 'month', 'month', 'month', 'month', 'month', 'month', 'month', 'month', 'month', 'month', 'month', 'month', 'month', 'month', 'month', 'month', 'month', 'month', 'month', 'month', 'month', 'month', 'month', 'month', 'month', 'month', 'month', 'month', 'month', 'month', 'month', 'month', 'month', 'month', 'month', 'month', 'month', 'month', 'month', 'month', 'month', 'month', 'month', 'month', 'month', 'month', 'month', 'month', 'month', 'month', 'month', 'month', 'month', 'month', 'month', 'month', 'month', 'month', 'month', 'month', 'month', 'month', 'month', 'month', 'month', 'month', 'month', 'month', 'month', 'month', 'month', 'month', 'month', 'month', 'month', 'month', 'month', 'month', 'month', 'month', 'month', 'month', 'month', 'month', 'month', 'month', 'month', 'month', 'month', 'month', 'month', 'month', 'month', 'month', 'month', 'month', 'month', 'month', 'month', 'month', 'month', 'month', 'month', 'month', 'month', 'month', 'month', 'month', 'month', 'month', 'month', 'month', 'month', 'month', 'month', 'month', 'month', 'month', 'month', 'month', 'month', 'month', 'month', 'month', 'month', 'month', 'month', 'month', 'month', 'month', 'month', 'month', 'month', 'month', 'month'))\n"
     ]
    }
   ],
   "source": [
    "print(Get_options_information(\"BTC\"))"
   ]
  },
  {
   "cell_type": "code",
   "execution_count": 24,
   "metadata": {},
   "outputs": [
    {
     "name": "stdout",
     "output_type": "stream",
     "text": [
      "321\n"
     ]
    }
   ],
   "source": [
    "print(Get_days_till_maturity(\"BTC-29SEP23-30000-P\"))"
   ]
  },
  {
   "cell_type": "code",
   "execution_count": null,
   "metadata": {},
   "outputs": [],
   "source": []
  }
 ],
 "metadata": {
  "kernelspec": {
   "display_name": "Python 3.9.1 64-bit",
   "language": "python",
   "name": "python3"
  },
  "language_info": {
   "codemirror_mode": {
    "name": "ipython",
    "version": 3
   },
   "file_extension": ".py",
   "mimetype": "text/x-python",
   "name": "python",
   "nbconvert_exporter": "python",
   "pygments_lexer": "ipython3",
   "version": "3.9.1"
  },
  "orig_nbformat": 4,
  "vscode": {
   "interpreter": {
    "hash": "c8be88799e4e7977f60998f2522923f1f9268b787ed3a9315cdbced7a5f47631"
   }
  }
 },
 "nbformat": 4,
 "nbformat_minor": 2
}
